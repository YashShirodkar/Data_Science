{
 "cells": [
  {
   "cell_type": "code",
   "execution_count": 6,
   "metadata": {},
   "outputs": [
    {
     "name": "stdout",
     "output_type": "stream",
     "text": [
      "Collecting keras\n",
      "  Downloading Keras-2.4.3-py2.py3-none-any.whl (36 kB)\n",
      "Requirement already satisfied: h5py in /Users/yashshirodkar/opt/anaconda3/lib/python3.8/site-packages (from keras) (2.10.0)\n",
      "Requirement already satisfied: pyyaml in /Users/yashshirodkar/opt/anaconda3/lib/python3.8/site-packages (from keras) (5.3.1)\n",
      "Requirement already satisfied: scipy>=0.14 in /Users/yashshirodkar/opt/anaconda3/lib/python3.8/site-packages (from keras) (1.5.2)\n",
      "Requirement already satisfied: numpy>=1.9.1 in /Users/yashshirodkar/opt/anaconda3/lib/python3.8/site-packages (from keras) (1.19.2)\n",
      "Requirement already satisfied: six in /Users/yashshirodkar/opt/anaconda3/lib/python3.8/site-packages (from h5py->keras) (1.15.0)\n",
      "Installing collected packages: keras\n",
      "Successfully installed keras-2.4.3\n",
      "Note: you may need to restart the kernel to use updated packages.\n"
     ]
    }
   ],
   "source": [
    "pip install keras"
   ]
  },
  {
   "cell_type": "code",
   "execution_count": 2,
   "metadata": {},
   "outputs": [
    {
     "name": "stdout",
     "output_type": "stream",
     "text": [
      "Collecting tensorflow\n",
      "  Downloading tensorflow-2.5.0-cp38-cp38-macosx_10_11_x86_64.whl (195.7 MB)\n",
      "\u001b[K     |████████████████████████████████| 195.7 MB 84 kB/s  eta 0:00:01\n",
      "\u001b[?25hCollecting tensorboard~=2.5\n",
      "  Downloading tensorboard-2.5.0-py3-none-any.whl (6.0 MB)\n",
      "\u001b[K     |████████████████████████████████| 6.0 MB 2.2 MB/s eta 0:00:01\n",
      "\u001b[?25hCollecting flatbuffers~=1.12.0\n",
      "  Downloading flatbuffers-1.12-py2.py3-none-any.whl (15 kB)\n",
      "Collecting wrapt~=1.12.1\n",
      "  Downloading wrapt-1.12.1.tar.gz (27 kB)\n",
      "Collecting google-pasta~=0.2\n",
      "  Downloading google_pasta-0.2.0-py3-none-any.whl (57 kB)\n",
      "\u001b[K     |████████████████████████████████| 57 kB 4.0 MB/s eta 0:00:01\n",
      "\u001b[?25hCollecting h5py~=3.1.0\n",
      "  Downloading h5py-3.1.0-cp38-cp38-macosx_10_9_x86_64.whl (2.9 MB)\n",
      "\u001b[K     |████████████████████████████████| 2.9 MB 698 kB/s eta 0:00:01\n",
      "\u001b[?25hRequirement already satisfied: numpy~=1.19.2 in /Users/yashshirodkar/opt/anaconda3/lib/python3.8/site-packages (from tensorflow) (1.19.2)\n",
      "Collecting tensorflow-estimator<2.6.0,>=2.5.0rc0\n",
      "  Downloading tensorflow_estimator-2.5.0-py2.py3-none-any.whl (462 kB)\n",
      "\u001b[K     |████████████████████████████████| 462 kB 4.1 MB/s eta 0:00:01\n",
      "\u001b[?25hCollecting keras-preprocessing~=1.1.2\n",
      "  Downloading Keras_Preprocessing-1.1.2-py2.py3-none-any.whl (42 kB)\n",
      "\u001b[K     |████████████████████████████████| 42 kB 2.1 MB/s eta 0:00:01\n",
      "\u001b[?25hRequirement already satisfied: typing-extensions~=3.7.4 in /Users/yashshirodkar/opt/anaconda3/lib/python3.8/site-packages (from tensorflow) (3.7.4.3)\n",
      "Collecting opt-einsum~=3.3.0\n",
      "  Downloading opt_einsum-3.3.0-py3-none-any.whl (65 kB)\n",
      "\u001b[K     |████████████████████████████████| 65 kB 4.5 MB/s eta 0:00:011\n",
      "\u001b[?25hRequirement already satisfied: six~=1.15.0 in /Users/yashshirodkar/opt/anaconda3/lib/python3.8/site-packages (from tensorflow) (1.15.0)\n",
      "Collecting keras-nightly~=2.5.0.dev\n",
      "  Downloading keras_nightly-2.5.0.dev2021032900-py2.py3-none-any.whl (1.2 MB)\n",
      "\u001b[K     |████████████████████████████████| 1.2 MB 567 kB/s eta 0:00:01\n",
      "\u001b[?25hCollecting grpcio~=1.34.0\n",
      "  Downloading grpcio-1.34.1-cp38-cp38-macosx_10_10_x86_64.whl (3.7 MB)\n",
      "\u001b[K     |████████████████████████████████| 3.7 MB 3.6 MB/s eta 0:00:01\n",
      "\u001b[?25hCollecting astunparse~=1.6.3\n",
      "  Downloading astunparse-1.6.3-py2.py3-none-any.whl (12 kB)\n",
      "Requirement already satisfied: wheel~=0.35 in /Users/yashshirodkar/opt/anaconda3/lib/python3.8/site-packages (from tensorflow) (0.35.1)\n",
      "Requirement already satisfied: protobuf>=3.9.2 in /Users/yashshirodkar/opt/anaconda3/lib/python3.8/site-packages (from tensorflow) (3.15.6)\n",
      "Collecting absl-py~=0.10\n",
      "  Downloading absl_py-0.12.0-py3-none-any.whl (129 kB)\n",
      "\u001b[K     |████████████████████████████████| 129 kB 4.4 MB/s eta 0:00:01\n",
      "\u001b[?25hCollecting termcolor~=1.1.0\n",
      "  Downloading termcolor-1.1.0.tar.gz (3.9 kB)\n",
      "Collecting gast==0.4.0\n",
      "  Downloading gast-0.4.0-py3-none-any.whl (9.8 kB)\n",
      "Requirement already satisfied: requests<3,>=2.21.0 in /Users/yashshirodkar/opt/anaconda3/lib/python3.8/site-packages (from tensorboard~=2.5->tensorflow) (2.24.0)\n",
      "Collecting tensorboard-data-server<0.7.0,>=0.6.0\n",
      "  Downloading tensorboard_data_server-0.6.1-py3-none-macosx_10_9_x86_64.whl (3.5 MB)\n",
      "\u001b[K     |████████████████████████████████| 3.5 MB 2.6 MB/s eta 0:00:01\n",
      "\u001b[?25hCollecting tensorboard-plugin-wit>=1.6.0\n",
      "  Downloading tensorboard_plugin_wit-1.8.0-py3-none-any.whl (781 kB)\n",
      "\u001b[K     |████████████████████████████████| 781 kB 3.4 MB/s eta 0:00:01\n",
      "\u001b[?25hRequirement already satisfied: google-auth<2,>=1.6.3 in /Users/yashshirodkar/opt/anaconda3/lib/python3.8/site-packages (from tensorboard~=2.5->tensorflow) (1.27.1)\n",
      "Collecting markdown>=2.6.8\n",
      "  Downloading Markdown-3.3.4-py3-none-any.whl (97 kB)\n",
      "\u001b[K     |████████████████████████████████| 97 kB 3.2 MB/s eta 0:00:01\n",
      "\u001b[?25hRequirement already satisfied: setuptools>=41.0.0 in /Users/yashshirodkar/opt/anaconda3/lib/python3.8/site-packages (from tensorboard~=2.5->tensorflow) (50.3.1.post20201107)\n",
      "Requirement already satisfied: werkzeug>=0.11.15 in /Users/yashshirodkar/opt/anaconda3/lib/python3.8/site-packages (from tensorboard~=2.5->tensorflow) (1.0.1)\n",
      "Collecting google-auth-oauthlib<0.5,>=0.4.1\n",
      "  Downloading google_auth_oauthlib-0.4.4-py2.py3-none-any.whl (18 kB)\n",
      "Requirement already satisfied: urllib3!=1.25.0,!=1.25.1,<1.26,>=1.21.1 in /Users/yashshirodkar/opt/anaconda3/lib/python3.8/site-packages (from requests<3,>=2.21.0->tensorboard~=2.5->tensorflow) (1.25.11)\n",
      "Requirement already satisfied: chardet<4,>=3.0.2 in /Users/yashshirodkar/opt/anaconda3/lib/python3.8/site-packages (from requests<3,>=2.21.0->tensorboard~=2.5->tensorflow) (3.0.4)\n",
      "Requirement already satisfied: idna<3,>=2.5 in /Users/yashshirodkar/opt/anaconda3/lib/python3.8/site-packages (from requests<3,>=2.21.0->tensorboard~=2.5->tensorflow) (2.10)\n",
      "Requirement already satisfied: certifi>=2017.4.17 in /Users/yashshirodkar/opt/anaconda3/lib/python3.8/site-packages (from requests<3,>=2.21.0->tensorboard~=2.5->tensorflow) (2020.6.20)\n",
      "Requirement already satisfied: pyasn1-modules>=0.2.1 in /Users/yashshirodkar/opt/anaconda3/lib/python3.8/site-packages (from google-auth<2,>=1.6.3->tensorboard~=2.5->tensorflow) (0.2.8)\n",
      "Requirement already satisfied: cachetools<5.0,>=2.0.0 in /Users/yashshirodkar/opt/anaconda3/lib/python3.8/site-packages (from google-auth<2,>=1.6.3->tensorboard~=2.5->tensorflow) (4.2.1)\n",
      "Requirement already satisfied: rsa<5,>=3.1.4; python_version >= \"3.6\" in /Users/yashshirodkar/opt/anaconda3/lib/python3.8/site-packages (from google-auth<2,>=1.6.3->tensorboard~=2.5->tensorflow) (4.7.2)\n",
      "Collecting requests-oauthlib>=0.7.0\n",
      "  Downloading requests_oauthlib-1.3.0-py2.py3-none-any.whl (23 kB)\n",
      "Requirement already satisfied: pyasn1<0.5.0,>=0.4.6 in /Users/yashshirodkar/opt/anaconda3/lib/python3.8/site-packages (from pyasn1-modules>=0.2.1->google-auth<2,>=1.6.3->tensorboard~=2.5->tensorflow) (0.4.8)\n",
      "Collecting oauthlib>=3.0.0\n",
      "  Downloading oauthlib-3.1.0-py2.py3-none-any.whl (147 kB)\n",
      "\u001b[K     |████████████████████████████████| 147 kB 4.1 MB/s eta 0:00:01\n",
      "\u001b[?25hBuilding wheels for collected packages: wrapt, termcolor\n",
      "  Building wheel for wrapt (setup.py) ... \u001b[?25ldone\n",
      "\u001b[?25h  Created wheel for wrapt: filename=wrapt-1.12.1-cp38-cp38-macosx_10_9_x86_64.whl size=32728 sha256=bf7f0a08b46fd8b2e7b4571278140e588e021b60b13480287b58c2c07fb097bd\n",
      "  Stored in directory: /Users/yashshirodkar/Library/Caches/pip/wheels/5f/fd/9e/b6cf5890494cb8ef0b5eaff72e5d55a70fb56316007d6dfe73\n",
      "  Building wheel for termcolor (setup.py) ... \u001b[?25ldone\n",
      "\u001b[?25h  Created wheel for termcolor: filename=termcolor-1.1.0-py3-none-any.whl size=4830 sha256=9f057e574a43c5f9dfcadf9a98f6b7a57aa9a8716ded3de97c8376de1a189fcc\n",
      "  Stored in directory: /Users/yashshirodkar/Library/Caches/pip/wheels/a0/16/9c/5473df82468f958445479c59e784896fa24f4a5fc024b0f501\n",
      "Successfully built wrapt termcolor\n",
      "Installing collected packages: tensorboard-data-server, tensorboard-plugin-wit, grpcio, markdown, absl-py, oauthlib, requests-oauthlib, google-auth-oauthlib, tensorboard, flatbuffers, wrapt, google-pasta, h5py, tensorflow-estimator, keras-preprocessing, opt-einsum, keras-nightly, astunparse, termcolor, gast, tensorflow\n",
      "  Attempting uninstall: grpcio\n",
      "    Found existing installation: grpcio 1.36.1\n",
      "    Uninstalling grpcio-1.36.1:\n",
      "      Successfully uninstalled grpcio-1.36.1\n",
      "  Attempting uninstall: wrapt\n",
      "    Found existing installation: wrapt 1.11.2\n",
      "    Uninstalling wrapt-1.11.2:\n",
      "      Successfully uninstalled wrapt-1.11.2\n",
      "  Attempting uninstall: h5py\n",
      "    Found existing installation: h5py 2.10.0\n",
      "    Uninstalling h5py-2.10.0:\n",
      "      Successfully uninstalled h5py-2.10.0\n",
      "Successfully installed absl-py-0.12.0 astunparse-1.6.3 flatbuffers-1.12 gast-0.4.0 google-auth-oauthlib-0.4.4 google-pasta-0.2.0 grpcio-1.34.1 h5py-3.1.0 keras-nightly-2.5.0.dev2021032900 keras-preprocessing-1.1.2 markdown-3.3.4 oauthlib-3.1.0 opt-einsum-3.3.0 requests-oauthlib-1.3.0 tensorboard-2.5.0 tensorboard-data-server-0.6.1 tensorboard-plugin-wit-1.8.0 tensorflow-2.5.0 tensorflow-estimator-2.5.0 termcolor-1.1.0 wrapt-1.12.1\n",
      "Note: you may need to restart the kernel to use updated packages.\n"
     ]
    }
   ],
   "source": [
    "pip install tensorflow"
   ]
  },
  {
   "cell_type": "code",
   "execution_count": 14,
   "metadata": {},
   "outputs": [],
   "source": [
    "import numpy as np\n",
    "import matplotlib.pyplot as plt\n",
    "import seaborn as sns\n",
    "import pandas as pd\n",
    "import datetime\n",
    "\n",
    "%matplotlib inline\n",
    "plt.style.use('fivethirtyeight')\n",
    "\n",
    "from sklearn.metrics import mean_squared_error\n",
    "\n",
    "from keras.layers.core import Dense, Activation, Dropout\n",
    "from keras.layers.recurrent import LSTM\n",
    "from keras.models import Sequential"
   ]
  },
  {
   "cell_type": "code",
   "execution_count": 15,
   "metadata": {},
   "outputs": [],
   "source": [
    "from datetime import datetime"
   ]
  },
  {
   "cell_type": "code",
   "execution_count": 6,
   "metadata": {},
   "outputs": [
    {
     "name": "stdout",
     "output_type": "stream",
     "text": [
      "Collecting python-binance\n",
      "  Downloading python_binance-1.0.10-py2.py3-none-any.whl (58 kB)\n",
      "\u001b[K     |████████████████████████████████| 58 kB 2.0 MB/s eta 0:00:011\n",
      "\u001b[?25hRequirement already satisfied: six in /Users/yashshirodkar/opt/anaconda3/lib/python3.8/site-packages (from python-binance) (1.15.0)\n",
      "Collecting aiohttp\n",
      "  Downloading aiohttp-3.7.4.post0-cp38-cp38-macosx_10_14_x86_64.whl (648 kB)\n",
      "\u001b[K     |████████████████████████████████| 648 kB 6.1 MB/s eta 0:00:01\n",
      "\u001b[?25hRequirement already satisfied: ujson in /Users/yashshirodkar/opt/anaconda3/lib/python3.8/site-packages (from python-binance) (4.0.1)\n",
      "Collecting dateparser\n",
      "  Downloading dateparser-1.0.0-py2.py3-none-any.whl (279 kB)\n",
      "\u001b[K     |████████████████████████████████| 279 kB 3.6 MB/s eta 0:00:01\n",
      "\u001b[?25hRequirement already satisfied: requests in /Users/yashshirodkar/opt/anaconda3/lib/python3.8/site-packages (from python-binance) (2.24.0)\n",
      "Collecting websockets\n",
      "  Downloading websockets-9.0.2-cp38-cp38-macosx_10_9_x86_64.whl (88 kB)\n",
      "\u001b[K     |████████████████████████████████| 88 kB 4.1 MB/s eta 0:00:01\n",
      "\u001b[?25hRequirement already satisfied: typing-extensions>=3.6.5 in /Users/yashshirodkar/opt/anaconda3/lib/python3.8/site-packages (from aiohttp->python-binance) (3.7.4.3)\n",
      "Collecting multidict<7.0,>=4.5\n",
      "  Downloading multidict-5.1.0-cp38-cp38-macosx_10_14_x86_64.whl (49 kB)\n",
      "\u001b[K     |████████████████████████████████| 49 kB 1.7 MB/s eta 0:00:01\n",
      "\u001b[?25hRequirement already satisfied: attrs>=17.3.0 in /Users/yashshirodkar/opt/anaconda3/lib/python3.8/site-packages (from aiohttp->python-binance) (20.3.0)\n",
      "Collecting async-timeout<4.0,>=3.0\n",
      "  Downloading async_timeout-3.0.1-py3-none-any.whl (8.2 kB)\n",
      "Requirement already satisfied: chardet<5.0,>=2.0 in /Users/yashshirodkar/opt/anaconda3/lib/python3.8/site-packages (from aiohttp->python-binance) (3.0.4)\n",
      "Collecting yarl<2.0,>=1.0\n",
      "  Downloading yarl-1.6.3-cp38-cp38-macosx_10_14_x86_64.whl (124 kB)\n",
      "\u001b[K     |████████████████████████████████| 124 kB 4.3 MB/s eta 0:00:01\n",
      "\u001b[?25hRequirement already satisfied: pytz in /Users/yashshirodkar/opt/anaconda3/lib/python3.8/site-packages (from dateparser->python-binance) (2020.1)\n",
      "Requirement already satisfied: regex!=2019.02.19 in /Users/yashshirodkar/opt/anaconda3/lib/python3.8/site-packages (from dateparser->python-binance) (2020.10.15)\n",
      "Collecting tzlocal\n",
      "  Downloading tzlocal-2.1-py2.py3-none-any.whl (16 kB)\n",
      "Requirement already satisfied: python-dateutil in /Users/yashshirodkar/opt/anaconda3/lib/python3.8/site-packages (from dateparser->python-binance) (2.8.1)\n",
      "Requirement already satisfied: idna<3,>=2.5 in /Users/yashshirodkar/opt/anaconda3/lib/python3.8/site-packages (from requests->python-binance) (2.10)\n",
      "Requirement already satisfied: certifi>=2017.4.17 in /Users/yashshirodkar/opt/anaconda3/lib/python3.8/site-packages (from requests->python-binance) (2020.6.20)\n",
      "Requirement already satisfied: urllib3!=1.25.0,!=1.25.1,<1.26,>=1.21.1 in /Users/yashshirodkar/opt/anaconda3/lib/python3.8/site-packages (from requests->python-binance) (1.25.11)\n",
      "Installing collected packages: multidict, async-timeout, yarl, aiohttp, tzlocal, dateparser, websockets, python-binance\n",
      "Successfully installed aiohttp-3.7.4.post0 async-timeout-3.0.1 dateparser-1.0.0 multidict-5.1.0 python-binance-1.0.10 tzlocal-2.1 websockets-9.0.2 yarl-1.6.3\n",
      "Note: you may need to restart the kernel to use updated packages.\n"
     ]
    }
   ],
   "source": [
    "pip install python-binance"
   ]
  },
  {
   "cell_type": "code",
   "execution_count": 16,
   "metadata": {},
   "outputs": [],
   "source": [
    "from binance.client import Client\n",
    "api_key = 'xVM7IUXNFne6yrZyGnHM605GdDUCQaoumMv8sEfKO6LeMdpo9XfzeoDgGOalhjoi'\n",
    "secret = 'OhAFhj9WccUT1N3qrpJiXERXvI1PbsOVx6GgWAZmH7HgYr775l7N286CFQ4ZKh7B'\n",
    "client = Client(api_key, secret)"
   ]
  },
  {
   "cell_type": "code",
   "execution_count": 17,
   "metadata": {},
   "outputs": [],
   "source": [
    "candles = client.get_klines(symbol = 'BTCUSDT', interval = Client.KLINE_INTERVAL_30MINUTE) "
   ]
  },
  {
   "cell_type": "code",
   "execution_count": 18,
   "metadata": {},
   "outputs": [
    {
     "data": {
      "text/plain": [
       "500"
      ]
     },
     "execution_count": 18,
     "metadata": {},
     "output_type": "execute_result"
    }
   ],
   "source": [
    "len(candles)"
   ]
  },
  {
   "cell_type": "code",
   "execution_count": 19,
   "metadata": {},
   "outputs": [
    {
     "data": {
      "text/plain": [
       "[1622412000000,\n",
       " '35939.61000000',\n",
       " '36048.30000000',\n",
       " '35800.42000000',\n",
       " '35956.56000000',\n",
       " '612.74421000',\n",
       " 1622413799999,\n",
       " '22009069.28590840',\n",
       " 15826,\n",
       " '295.37843800',\n",
       " '10612533.84060228',\n",
       " '0']"
      ]
     },
     "execution_count": 19,
     "metadata": {},
     "output_type": "execute_result"
    }
   ],
   "source": [
    "candles[499]"
   ]
  },
  {
   "cell_type": "code",
   "execution_count": 20,
   "metadata": {},
   "outputs": [],
   "source": [
    "price = np.array([float(candles[i][4]) for i in range(500)])"
   ]
  },
  {
   "cell_type": "code",
   "execution_count": 21,
   "metadata": {},
   "outputs": [],
   "source": [
    "time = np.array([int(candles[i][0]) for i in range(500)])\n",
    "\n",
    "t = np.array([datetime.fromtimestamp(time[i]/1000).strftime('%H:%M:%S') for i in range(500)])"
   ]
  },
  {
   "cell_type": "code",
   "execution_count": 22,
   "metadata": {},
   "outputs": [
    {
     "data": {
      "text/plain": [
       "(500,)"
      ]
     },
     "execution_count": 22,
     "metadata": {},
     "output_type": "execute_result"
    }
   ],
   "source": [
    "price.shape"
   ]
  },
  {
   "cell_type": "code",
   "execution_count": 23,
   "metadata": {},
   "outputs": [
    {
     "data": {
      "image/png": "[encoded data removed]",
      "text/plain": [
       "<Figure size 576x360 with 1 Axes>"
      ]
     },
     "metadata": {},
     "output_type": "display_data"
    }
   ],
   "source": [
    "plt.figure(figsize = (8,5));\n",
    "plt.xlabel('Time Step');\n",
    "plt.ylabel('Bitcoin Price')\n",
    "plt.plot(price);"
   ]
  },
  {
   "cell_type": "code",
   "execution_count": 24,
   "metadata": {},
   "outputs": [
    {
     "data": {
      "text/html": [
       "<div>\n",
       "<style scoped>\n",
       "    .dataframe tbody tr th:only-of-type {\n",
       "        vertical-align: middle;\n",
       "    }\n",
       "\n",
       "    .dataframe tbody tr th {\n",
       "        vertical-align: top;\n",
       "    }\n",
       "\n",
       "    .dataframe thead th {\n",
       "        text-align: right;\n",
       "    }\n",
       "</style>\n",
       "<table border=\"1\" class=\"dataframe\">\n",
       "  <thead>\n",
       "    <tr style=\"text-align: right;\">\n",
       "      <th></th>\n",
       "      <th>Time</th>\n",
       "      <th>Price $BTC</th>\n",
       "    </tr>\n",
       "  </thead>\n",
       "  <tbody>\n",
       "    <tr>\n",
       "      <th>0</th>\n",
       "      <td>08:30:00</td>\n",
       "      <td>41699.99</td>\n",
       "    </tr>\n",
       "    <tr>\n",
       "      <th>1</th>\n",
       "      <td>09:00:00</td>\n",
       "      <td>42281.81</td>\n",
       "    </tr>\n",
       "    <tr>\n",
       "      <th>2</th>\n",
       "      <td>09:30:00</td>\n",
       "      <td>41713.33</td>\n",
       "    </tr>\n",
       "    <tr>\n",
       "      <th>3</th>\n",
       "      <td>10:00:00</td>\n",
       "      <td>41714.99</td>\n",
       "    </tr>\n",
       "    <tr>\n",
       "      <th>4</th>\n",
       "      <td>10:30:00</td>\n",
       "      <td>41439.32</td>\n",
       "    </tr>\n",
       "    <tr>\n",
       "      <th>...</th>\n",
       "      <td>...</td>\n",
       "      <td>...</td>\n",
       "    </tr>\n",
       "    <tr>\n",
       "      <th>495</th>\n",
       "      <td>16:00:00</td>\n",
       "      <td>36293.22</td>\n",
       "    </tr>\n",
       "    <tr>\n",
       "      <th>496</th>\n",
       "      <td>16:30:00</td>\n",
       "      <td>36050.00</td>\n",
       "    </tr>\n",
       "    <tr>\n",
       "      <th>497</th>\n",
       "      <td>17:00:00</td>\n",
       "      <td>35974.96</td>\n",
       "    </tr>\n",
       "    <tr>\n",
       "      <th>498</th>\n",
       "      <td>17:30:00</td>\n",
       "      <td>35940.45</td>\n",
       "    </tr>\n",
       "    <tr>\n",
       "      <th>499</th>\n",
       "      <td>18:00:00</td>\n",
       "      <td>35956.56</td>\n",
       "    </tr>\n",
       "  </tbody>\n",
       "</table>\n",
       "<p>500 rows × 2 columns</p>\n",
       "</div>"
      ],
      "text/plain": [
       "         Time  Price $BTC\n",
       "0    08:30:00    41699.99\n",
       "1    09:00:00    42281.81\n",
       "2    09:30:00    41713.33\n",
       "3    10:00:00    41714.99\n",
       "4    10:30:00    41439.32\n",
       "..        ...         ...\n",
       "495  16:00:00    36293.22\n",
       "496  16:30:00    36050.00\n",
       "497  17:00:00    35974.96\n",
       "498  17:30:00    35940.45\n",
       "499  18:00:00    35956.56\n",
       "\n",
       "[500 rows x 2 columns]"
      ]
     },
     "execution_count": 24,
     "metadata": {},
     "output_type": "execute_result"
    }
   ],
   "source": [
    "timeframe = pd.DataFrame({'Time':t, 'Price $BTC': price})\n",
    "timeframe"
   ]
  },
  {
   "cell_type": "code",
   "execution_count": 25,
   "metadata": {},
   "outputs": [
    {
     "data": {
      "text/plain": [
       "500"
      ]
     },
     "execution_count": 25,
     "metadata": {},
     "output_type": "execute_result"
    }
   ],
   "source": [
    "len(price)"
   ]
  },
  {
   "cell_type": "code",
   "execution_count": 26,
   "metadata": {},
   "outputs": [],
   "source": [
    "price = price.reshape(500,1)"
   ]
  },
  {
   "cell_type": "code",
   "execution_count": 27,
   "metadata": {},
   "outputs": [],
   "source": [
    "from sklearn.preprocessing import StandardScaler\n",
    "\n",
    "scaler = StandardScaler()"
   ]
  },
  {
   "cell_type": "code",
   "execution_count": 28,
   "metadata": {},
   "outputs": [
    {
     "data": {
      "text/plain": [
       "StandardScaler()"
      ]
     },
     "execution_count": 28,
     "metadata": {},
     "output_type": "execute_result"
    }
   ],
   "source": [
    "scaler.fit(price[:374])"
   ]
  },
  {
   "cell_type": "code",
   "execution_count": 29,
   "metadata": {},
   "outputs": [],
   "source": [
    "price = scaler.transform(price)"
   ]
  },
  {
   "cell_type": "code",
   "execution_count": 30,
   "metadata": {},
   "outputs": [],
   "source": [
    "df = pd.DataFrame(price.reshape(100,5), columns = ['First', 'Second', 'Third', 'Fourth', 'Target'])\n",
    "# Here First, Second, Third, Fourth are the seconds over which it is trained \n",
    "# and target is the value which will be predicted"
   ]
  },
  {
   "cell_type": "code",
   "execution_count": 31,
   "metadata": {},
   "outputs": [
    {
     "data": {
      "text/html": [
       "<div>\n",
       "<style scoped>\n",
       "    .dataframe tbody tr th:only-of-type {\n",
       "        vertical-align: middle;\n",
       "    }\n",
       "\n",
       "    .dataframe tbody tr th {\n",
       "        vertical-align: top;\n",
       "    }\n",
       "\n",
       "    .dataframe thead th {\n",
       "        text-align: right;\n",
       "    }\n",
       "</style>\n",
       "<table border=\"1\" class=\"dataframe\">\n",
       "  <thead>\n",
       "    <tr style=\"text-align: right;\">\n",
       "      <th></th>\n",
       "      <th>First</th>\n",
       "      <th>Second</th>\n",
       "      <th>Third</th>\n",
       "      <th>Fourth</th>\n",
       "      <th>Target</th>\n",
       "    </tr>\n",
       "  </thead>\n",
       "  <tbody>\n",
       "    <tr>\n",
       "      <th>0</th>\n",
       "      <td>1.968970</td>\n",
       "      <td>2.275603</td>\n",
       "      <td>1.976000</td>\n",
       "      <td>1.976875</td>\n",
       "      <td>1.831591</td>\n",
       "    </tr>\n",
       "    <tr>\n",
       "      <th>1</th>\n",
       "      <td>1.981703</td>\n",
       "      <td>1.828197</td>\n",
       "      <td>0.988927</td>\n",
       "      <td>0.710337</td>\n",
       "      <td>0.677715</td>\n",
       "    </tr>\n",
       "    <tr>\n",
       "      <th>2</th>\n",
       "      <td>0.959915</td>\n",
       "      <td>0.972869</td>\n",
       "      <td>0.973870</td>\n",
       "      <td>1.227042</td>\n",
       "      <td>1.134191</td>\n",
       "    </tr>\n",
       "    <tr>\n",
       "      <th>3</th>\n",
       "      <td>1.313827</td>\n",
       "      <td>1.069277</td>\n",
       "      <td>1.375936</td>\n",
       "      <td>1.435880</td>\n",
       "      <td>1.158887</td>\n",
       "    </tr>\n",
       "    <tr>\n",
       "      <th>4</th>\n",
       "      <td>1.838131</td>\n",
       "      <td>1.593529</td>\n",
       "      <td>1.350587</td>\n",
       "      <td>1.601002</td>\n",
       "      <td>1.982462</td>\n",
       "    </tr>\n",
       "  </tbody>\n",
       "</table>\n",
       "</div>"
      ],
      "text/plain": [
       "      First    Second     Third    Fourth    Target\n",
       "0  1.968970  2.275603  1.976000  1.976875  1.831591\n",
       "1  1.981703  1.828197  0.988927  0.710337  0.677715\n",
       "2  0.959915  0.972869  0.973870  1.227042  1.134191\n",
       "3  1.313827  1.069277  1.375936  1.435880  1.158887\n",
       "4  1.838131  1.593529  1.350587  1.601002  1.982462"
      ]
     },
     "execution_count": 31,
     "metadata": {},
     "output_type": "execute_result"
    }
   ],
   "source": [
    "df.head()"
   ]
  },
  {
   "cell_type": "markdown",
   "metadata": {},
   "source": [
    "## Train - Test Split"
   ]
  },
  {
   "cell_type": "code",
   "execution_count": 32,
   "metadata": {},
   "outputs": [],
   "source": [
    "# 75% train, 25% test\n",
    "\n",
    "x_train = df.iloc[:74, :4]\n",
    "y_train = df.iloc[:74, -1]\n",
    "\n",
    "x_test = df.iloc[75:99, :4]\n",
    "y_test = df.iloc[75:99, -1]"
   ]
  },
  {
   "cell_type": "code",
   "execution_count": 33,
   "metadata": {},
   "outputs": [],
   "source": [
    "x_train = np.array(x_train)\n",
    "y_train = np.array(y_train)\n",
    "x_test = np.array(x_test)\n",
    "y_test = np.array(y_test)"
   ]
  },
  {
   "cell_type": "code",
   "execution_count": 34,
   "metadata": {},
   "outputs": [],
   "source": [
    "x_train = np.reshape(x_train, (x_train.shape[0], x_train.shape[1], 1))\n",
    "x_test = np.reshape(x_test, (x_test.shape[0], x_test.shape[1], 1))"
   ]
  },
  {
   "cell_type": "code",
   "execution_count": 35,
   "metadata": {},
   "outputs": [
    {
     "data": {
      "text/plain": [
       "((74, 4, 1), (24, 4, 1))"
      ]
     },
     "execution_count": 35,
     "metadata": {},
     "output_type": "execute_result"
    }
   ],
   "source": [
    "x_train.shape , x_test.shape"
   ]
  },
  {
   "cell_type": "code",
   "execution_count": 1,
   "metadata": {},
   "outputs": [
    {
     "ename": "NameError",
     "evalue": "name 'Sequential' is not defined",
     "output_type": "error",
     "traceback": [
      "\u001b[0;31m---------------------------------------------------------------------------\u001b[0m",
      "\u001b[0;31mNameError\u001b[0m                                 Traceback (most recent call last)",
      "\u001b[0;32m<ipython-input-1-e7330622e115>\u001b[0m in \u001b[0;36m<module>\u001b[0;34m\u001b[0m\n\u001b[0;32m----> 1\u001b[0;31m \u001b[0mmodel\u001b[0m \u001b[0;34m=\u001b[0m \u001b[0mSequential\u001b[0m\u001b[0;34m(\u001b[0m\u001b[0;34m)\u001b[0m\u001b[0;34m\u001b[0m\u001b[0;34m\u001b[0m\u001b[0m\n\u001b[0m\u001b[1;32m      2\u001b[0m \u001b[0;34m\u001b[0m\u001b[0m\n\u001b[1;32m      3\u001b[0m \u001b[0mmodel\u001b[0m\u001b[0;34m.\u001b[0m\u001b[0madd\u001b[0m\u001b[0;34m(\u001b[0m\u001b[0mLSTM\u001b[0m\u001b[0;34m(\u001b[0m\u001b[0;36m20\u001b[0m\u001b[0;34m,\u001b[0m \u001b[0mreturn_sequences\u001b[0m \u001b[0;34m=\u001b[0m \u001b[0;32mTrue\u001b[0m\u001b[0;34m,\u001b[0m \u001b[0minput_shape\u001b[0m \u001b[0;34m=\u001b[0m \u001b[0;34m(\u001b[0m\u001b[0;36m4\u001b[0m\u001b[0;34m,\u001b[0m \u001b[0;36m1\u001b[0m\u001b[0;34m)\u001b[0m\u001b[0;34m)\u001b[0m\u001b[0;34m)\u001b[0m\u001b[0;34m\u001b[0m\u001b[0;34m\u001b[0m\u001b[0m\n\u001b[1;32m      4\u001b[0m \u001b[0mmodel\u001b[0m\u001b[0;34m.\u001b[0m\u001b[0madd\u001b[0m\u001b[0;34m(\u001b[0m\u001b[0mLSTM\u001b[0m\u001b[0;34m(\u001b[0m\u001b[0;36m40\u001b[0m\u001b[0;34m)\u001b[0m\u001b[0;34m)\u001b[0m\u001b[0;34m\u001b[0m\u001b[0;34m\u001b[0m\u001b[0m\n\u001b[1;32m      5\u001b[0m \u001b[0mmodel\u001b[0m\u001b[0;34m.\u001b[0m\u001b[0madd\u001b[0m\u001b[0;34m(\u001b[0m\u001b[0mDense\u001b[0m\u001b[0;34m(\u001b[0m\u001b[0;36m1\u001b[0m\u001b[0;34m)\u001b[0m\u001b[0;34m)\u001b[0m\u001b[0;34m\u001b[0m\u001b[0;34m\u001b[0m\u001b[0m\n",
      "\u001b[0;31mNameError\u001b[0m: name 'Sequential' is not defined"
     ]
    }
   ],
   "source": [
    "model = Sequential()\n",
    "\n",
    "model.add(LSTM(20, return_sequences = True, input_shape = (4, 1)))\n",
    "model.add(LSTM(40, return_sequences = False))\n",
    "model.add(Dense(1, activation='linear'))\n",
    "model.compile(loss = 'mse', optimizer='rmsprop')\n",
    "\n",
    "model.summary()"
   ]
  },
  {
   "cell_type": "code",
   "execution_count": 37,
   "metadata": {},
   "outputs": [
    {
     "name": "stdout",
     "output_type": "stream",
     "text": [
      "Epoch 1/100\n",
      "15/15 [==============================] - 21s 6ms/step - loss: 0.7506\n",
      "Epoch 2/100\n",
      "15/15 [==============================] - 0s 6ms/step - loss: 0.5436\n",
      "Epoch 3/100\n",
      "15/15 [==============================] - 0s 5ms/step - loss: 0.3450\n",
      "Epoch 4/100\n",
      "15/15 [==============================] - 0s 5ms/step - loss: 0.1610\n",
      "Epoch 5/100\n",
      "15/15 [==============================] - 0s 5ms/step - loss: 0.1067\n",
      "Epoch 6/100\n",
      "15/15 [==============================] - 0s 5ms/step - loss: 0.1179\n",
      "Epoch 7/100\n",
      "15/15 [==============================] - 0s 5ms/step - loss: 0.1094\n",
      "Epoch 8/100\n",
      "15/15 [==============================] - 0s 5ms/step - loss: 0.1472\n",
      "Epoch 9/100\n",
      "15/15 [==============================] - 0s 5ms/step - loss: 0.1193\n",
      "Epoch 10/100\n",
      "15/15 [==============================] - 0s 5ms/step - loss: 0.0983\n",
      "Epoch 11/100\n",
      "15/15 [==============================] - 0s 5ms/step - loss: 0.0926\n",
      "Epoch 12/100\n",
      "15/15 [==============================] - 0s 5ms/step - loss: 0.1163\n",
      "Epoch 13/100\n",
      "15/15 [==============================] - 0s 5ms/step - loss: 0.1355\n",
      "Epoch 14/100\n",
      "15/15 [==============================] - 0s 5ms/step - loss: 0.1170\n",
      "Epoch 15/100\n",
      "15/15 [==============================] - 0s 5ms/step - loss: 0.0810\n",
      "Epoch 16/100\n",
      "15/15 [==============================] - 0s 5ms/step - loss: 0.1004\n",
      "Epoch 17/100\n",
      "15/15 [==============================] - 0s 5ms/step - loss: 0.1005\n",
      "Epoch 18/100\n",
      "15/15 [==============================] - 0s 5ms/step - loss: 0.1025\n",
      "Epoch 19/100\n",
      "15/15 [==============================] - 0s 5ms/step - loss: 0.1198\n",
      "Epoch 20/100\n",
      "15/15 [==============================] - 0s 5ms/step - loss: 0.1227\n",
      "Epoch 21/100\n",
      "15/15 [==============================] - 0s 5ms/step - loss: 0.0769\n",
      "Epoch 22/100\n",
      "15/15 [==============================] - 0s 5ms/step - loss: 0.0936\n",
      "Epoch 23/100\n",
      "15/15 [==============================] - 0s 5ms/step - loss: 0.1080\n",
      "Epoch 24/100\n",
      "15/15 [==============================] - 0s 5ms/step - loss: 0.0896\n",
      "Epoch 25/100\n",
      "15/15 [==============================] - 0s 5ms/step - loss: 0.1154\n",
      "Epoch 26/100\n",
      "15/15 [==============================] - 0s 5ms/step - loss: 0.0972\n",
      "Epoch 27/100\n",
      "15/15 [==============================] - 0s 5ms/step - loss: 0.1042\n",
      "Epoch 28/100\n",
      "15/15 [==============================] - 0s 5ms/step - loss: 0.0743\n",
      "Epoch 29/100\n",
      "15/15 [==============================] - 0s 5ms/step - loss: 0.0789\n",
      "Epoch 30/100\n",
      "15/15 [==============================] - 0s 6ms/step - loss: 0.1145\n",
      "Epoch 31/100\n",
      "15/15 [==============================] - 0s 5ms/step - loss: 0.0780\n",
      "Epoch 32/100\n",
      "15/15 [==============================] - 0s 5ms/step - loss: 0.0825\n",
      "Epoch 33/100\n",
      "15/15 [==============================] - 0s 5ms/step - loss: 0.0952\n",
      "Epoch 34/100\n",
      "15/15 [==============================] - 0s 5ms/step - loss: 0.0632\n",
      "Epoch 35/100\n",
      "15/15 [==============================] - 0s 5ms/step - loss: 0.0972\n",
      "Epoch 36/100\n",
      "15/15 [==============================] - 0s 5ms/step - loss: 0.0802\n",
      "Epoch 37/100\n",
      "15/15 [==============================] - 0s 5ms/step - loss: 0.0888\n",
      "Epoch 38/100\n",
      "15/15 [==============================] - 0s 5ms/step - loss: 0.0702\n",
      "Epoch 39/100\n",
      "15/15 [==============================] - 0s 5ms/step - loss: 0.0738\n",
      "Epoch 40/100\n",
      "15/15 [==============================] - 0s 5ms/step - loss: 0.0796\n",
      "Epoch 41/100\n",
      "15/15 [==============================] - 0s 5ms/step - loss: 0.0702\n",
      "Epoch 42/100\n",
      "15/15 [==============================] - 0s 5ms/step - loss: 0.0591\n",
      "Epoch 43/100\n",
      "15/15 [==============================] - 0s 5ms/step - loss: 0.0637\n",
      "Epoch 44/100\n",
      "15/15 [==============================] - 0s 5ms/step - loss: 0.0800\n",
      "Epoch 45/100\n",
      "15/15 [==============================] - 0s 5ms/step - loss: 0.0598\n",
      "Epoch 46/100\n",
      "15/15 [==============================] - 0s 5ms/step - loss: 0.0535\n",
      "Epoch 47/100\n",
      "15/15 [==============================] - 0s 5ms/step - loss: 0.0597\n",
      "Epoch 48/100\n",
      "15/15 [==============================] - 0s 5ms/step - loss: 0.0570\n",
      "Epoch 49/100\n",
      "15/15 [==============================] - 0s 5ms/step - loss: 0.0499\n",
      "Epoch 50/100\n",
      "15/15 [==============================] - 0s 5ms/step - loss: 0.0695\n",
      "Epoch 51/100\n",
      "15/15 [==============================] - 0s 5ms/step - loss: 0.0488\n",
      "Epoch 52/100\n",
      "15/15 [==============================] - 0s 5ms/step - loss: 0.0709\n",
      "Epoch 53/100\n",
      "15/15 [==============================] - 0s 5ms/step - loss: 0.0584\n",
      "Epoch 54/100\n",
      "15/15 [==============================] - 0s 5ms/step - loss: 0.0704\n",
      "Epoch 55/100\n",
      "15/15 [==============================] - 0s 5ms/step - loss: 0.0476\n",
      "Epoch 56/100\n",
      "15/15 [==============================] - 0s 5ms/step - loss: 0.0454\n",
      "Epoch 57/100\n",
      "15/15 [==============================] - 0s 5ms/step - loss: 0.0449\n",
      "Epoch 58/100\n",
      "15/15 [==============================] - 0s 5ms/step - loss: 0.0491\n",
      "Epoch 59/100\n",
      "15/15 [==============================] - 0s 5ms/step - loss: 0.0627\n",
      "Epoch 60/100\n",
      "15/15 [==============================] - 0s 5ms/step - loss: 0.0477\n",
      "Epoch 61/100\n",
      "15/15 [==============================] - 0s 5ms/step - loss: 0.0633\n",
      "Epoch 62/100\n",
      "15/15 [==============================] - 0s 5ms/step - loss: 0.0557\n",
      "Epoch 63/100\n",
      "15/15 [==============================] - 0s 5ms/step - loss: 0.0457\n",
      "Epoch 64/100\n",
      "15/15 [==============================] - 0s 5ms/step - loss: 0.0623\n",
      "Epoch 65/100\n",
      "15/15 [==============================] - 0s 5ms/step - loss: 0.0681\n",
      "Epoch 66/100\n",
      "15/15 [==============================] - 0s 5ms/step - loss: 0.0415\n",
      "Epoch 67/100\n",
      "15/15 [==============================] - 0s 5ms/step - loss: 0.0361\n",
      "Epoch 68/100\n",
      "15/15 [==============================] - 0s 5ms/step - loss: 0.0692\n",
      "Epoch 69/100\n",
      "15/15 [==============================] - 0s 5ms/step - loss: 0.0436\n",
      "Epoch 70/100\n",
      "15/15 [==============================] - 0s 5ms/step - loss: 0.0418\n",
      "Epoch 71/100\n",
      "15/15 [==============================] - 0s 5ms/step - loss: 0.0583\n",
      "Epoch 72/100\n",
      "15/15 [==============================] - 0s 5ms/step - loss: 0.0542\n",
      "Epoch 73/100\n",
      "15/15 [==============================] - 0s 5ms/step - loss: 0.0463\n",
      "Epoch 74/100\n",
      "15/15 [==============================] - 0s 5ms/step - loss: 0.0370\n",
      "Epoch 75/100\n",
      "15/15 [==============================] - 0s 5ms/step - loss: 0.0529\n",
      "Epoch 76/100\n",
      "15/15 [==============================] - 0s 5ms/step - loss: 0.0338\n",
      "Epoch 77/100\n",
      "15/15 [==============================] - 0s 5ms/step - loss: 0.0505\n",
      "Epoch 78/100\n",
      "15/15 [==============================] - 0s 5ms/step - loss: 0.0430\n",
      "Epoch 79/100\n",
      "15/15 [==============================] - 0s 5ms/step - loss: 0.0610\n",
      "Epoch 80/100\n",
      "15/15 [==============================] - 0s 5ms/step - loss: 0.0377\n",
      "Epoch 81/100\n",
      "15/15 [==============================] - 0s 5ms/step - loss: 0.0442\n",
      "Epoch 82/100\n",
      "15/15 [==============================] - 0s 5ms/step - loss: 0.0469\n",
      "Epoch 83/100\n",
      "15/15 [==============================] - 0s 5ms/step - loss: 0.0524\n",
      "Epoch 84/100\n",
      "15/15 [==============================] - 0s 5ms/step - loss: 0.0577\n",
      "Epoch 85/100\n",
      "15/15 [==============================] - 0s 5ms/step - loss: 0.0419\n",
      "Epoch 86/100\n",
      "15/15 [==============================] - 0s 5ms/step - loss: 0.0491\n",
      "Epoch 87/100\n",
      "15/15 [==============================] - 0s 5ms/step - loss: 0.0489\n",
      "Epoch 88/100\n",
      "15/15 [==============================] - 0s 5ms/step - loss: 0.0445\n",
      "Epoch 89/100\n",
      "15/15 [==============================] - 0s 5ms/step - loss: 0.0461\n",
      "Epoch 90/100\n",
      "15/15 [==============================] - 0s 5ms/step - loss: 0.0539\n",
      "Epoch 91/100\n",
      "15/15 [==============================] - 0s 5ms/step - loss: 0.0416\n",
      "Epoch 92/100\n",
      "15/15 [==============================] - 0s 5ms/step - loss: 0.0410\n",
      "Epoch 93/100\n",
      "15/15 [==============================] - 0s 5ms/step - loss: 0.0495\n",
      "Epoch 94/100\n",
      "15/15 [==============================] - 0s 5ms/step - loss: 0.0605\n",
      "Epoch 95/100\n",
      "15/15 [==============================] - 0s 5ms/step - loss: 0.0490\n",
      "Epoch 96/100\n",
      "15/15 [==============================] - 0s 5ms/step - loss: 0.0468\n",
      "Epoch 97/100\n",
      "15/15 [==============================] - 0s 5ms/step - loss: 0.0519\n",
      "Epoch 98/100\n",
      "15/15 [==============================] - 0s 5ms/step - loss: 0.0425\n",
      "Epoch 99/100\n",
      "15/15 [==============================] - 0s 5ms/step - loss: 0.0460\n",
      "Epoch 100/100\n",
      "15/15 [==============================] - 0s 5ms/step - loss: 0.0477\n"
     ]
    },
    {
     "data": {
      "text/plain": [
       "<keras.callbacks.History at 0x7fb6e03c36a0>"
      ]
     },
     "execution_count": 37,
     "metadata": {},
     "output_type": "execute_result"
    }
   ],
   "source": [
    "model.fit(x_train, y_train, batch_size=5, epochs = 100)"
   ]
  },
  {
   "cell_type": "code",
   "execution_count": 38,
   "metadata": {},
   "outputs": [],
   "source": [
    "y_pred = model.predict(x_test)"
   ]
  },
  {
   "cell_type": "code",
   "execution_count": 39,
   "metadata": {},
   "outputs": [
    {
     "data": {
      "text/plain": [
       "<matplotlib.legend.Legend at 0x7fb6e1f965b0>"
      ]
     },
     "execution_count": 39,
     "metadata": {},
     "output_type": "execute_result"
    },
    {
     "data": {
      "image/png": "[encoded data removed]",
      "text/plain": [
       "<Figure size 576x360 with 1 Axes>"
      ]
     },
     "metadata": {},
     "output_type": "display_data"
    }
   ],
   "source": [
    "plt.figure(figsize = [8,5])\n",
    "plt.title('Model Fit')\n",
    "plt.xlabel('Time Step')\n",
    "plt.ylabel('Normalized Price')\n",
    "plt.plot(y_test, label='True')\n",
    "plt.plot(y_pred, label='Prediction')\n",
    "plt.legend()"
   ]
  },
  {
   "cell_type": "code",
   "execution_count": 40,
   "metadata": {},
   "outputs": [
    {
     "data": {
      "text/plain": [
       "<matplotlib.legend.Legend at 0x7fb6e109ea60>"
      ]
     },
     "execution_count": 40,
     "metadata": {},
     "output_type": "execute_result"
    },
    {
     "data": {
      "image/png": "[encoded data removed]",
      "text/plain": [
       "<Figure size 576x360 with 1 Axes>"
      ]
     },
     "metadata": {},
     "output_type": "display_data"
    }
   ],
   "source": [
    "# we need to inverse tranform to check the original values, since we had scaled it previously\n",
    "\n",
    "plt.figure(figsize = [8,5])\n",
    "plt.title('Model Fit')\n",
    "plt.xlabel('Time Step')\n",
    "plt.ylabel('Normalized Price')\n",
    "plt.plot(scaler.inverse_transform(y_test), label='True')\n",
    "plt.plot(scaler.inverse_transform(y_pred), label='Prediction')\n",
    "plt.legend()"
   ]
  },
  {
   "cell_type": "code",
   "execution_count": 41,
   "metadata": {},
   "outputs": [
    {
     "name": "stdout",
     "output_type": "stream",
     "text": [
      "Test Score 314.57862043819586 RMSE\n"
     ]
    }
   ],
   "source": [
    "testScore = np.sqrt(mean_squared_error(scaler.inverse_transform(y_test), scaler.inverse_transform(y_pred)))\n",
    "print ('Test Score {} RMSE'.format(testScore))"
   ]
  },
  {
   "cell_type": "code",
   "execution_count": 43,
   "metadata": {},
   "outputs": [
    {
     "name": "stdout",
     "output_type": "stream",
     "text": [
      "Model: \"sequential_2\"\n",
      "_________________________________________________________________\n",
      "Layer (type)                 Output Shape              Param #   \n",
      "=================================================================\n",
      "gru (GRU)                    (None, 5, 20)             1380      \n",
      "_________________________________________________________________\n",
      "gru_1 (GRU)                  (None, 40)                7440      \n",
      "_________________________________________________________________\n",
      "dense_1 (Dense)              (None, 1)                 41        \n",
      "=================================================================\n",
      "Total params: 8,861\n",
      "Trainable params: 8,861\n",
      "Non-trainable params: 0\n",
      "_________________________________________________________________\n"
     ]
    }
   ],
   "source": [
    "from keras.layers import GRU\n",
    "\n",
    "model1 = Sequential()\n",
    "\n",
    "model1.add(GRU(20, return_sequences = True, input_shape = (5, 1)))\n",
    "model1.add(GRU(40, return_sequences = False))\n",
    "model1.add(Dense(1, activation='linear'))\n",
    "model1.compile(loss = 'mse', optimizer='rmsprop')\n",
    "\n",
    "model1.summary()"
   ]
  },
  {
   "cell_type": "code",
   "execution_count": 44,
   "metadata": {},
   "outputs": [
    {
     "name": "stdout",
     "output_type": "stream",
     "text": [
      "Epoch 1/100\n",
      "15/15 [==============================] - 0s 5ms/step - loss: 0.0469\n",
      "Epoch 2/100\n",
      "15/15 [==============================] - 0s 5ms/step - loss: 0.0455\n",
      "Epoch 3/100\n",
      "15/15 [==============================] - 0s 5ms/step - loss: 0.0475\n",
      "Epoch 4/100\n",
      "15/15 [==============================] - 0s 5ms/step - loss: 0.0446\n",
      "Epoch 5/100\n",
      "15/15 [==============================] - 0s 5ms/step - loss: 0.0458\n",
      "Epoch 6/100\n",
      "15/15 [==============================] - 0s 5ms/step - loss: 0.0473\n",
      "Epoch 7/100\n",
      "15/15 [==============================] - 0s 5ms/step - loss: 0.0452\n",
      "Epoch 8/100\n",
      "15/15 [==============================] - 0s 5ms/step - loss: 0.0455\n",
      "Epoch 9/100\n",
      "15/15 [==============================] - 0s 5ms/step - loss: 0.0458\n",
      "Epoch 10/100\n",
      "15/15 [==============================] - 0s 5ms/step - loss: 0.0466\n",
      "Epoch 11/100\n",
      "15/15 [==============================] - 0s 5ms/step - loss: 0.0462\n",
      "Epoch 12/100\n",
      "15/15 [==============================] - 0s 5ms/step - loss: 0.0433\n",
      "Epoch 13/100\n",
      "15/15 [==============================] - 0s 5ms/step - loss: 0.0462\n",
      "Epoch 14/100\n",
      "15/15 [==============================] - 0s 5ms/step - loss: 0.0480\n",
      "Epoch 15/100\n",
      "15/15 [==============================] - 0s 6ms/step - loss: 0.0427\n",
      "Epoch 16/100\n",
      "15/15 [==============================] - 0s 6ms/step - loss: 0.0442\n",
      "Epoch 17/100\n",
      "15/15 [==============================] - 0s 5ms/step - loss: 0.0436\n",
      "Epoch 18/100\n",
      "15/15 [==============================] - 0s 6ms/step - loss: 0.0478\n",
      "Epoch 19/100\n",
      "15/15 [==============================] - 0s 5ms/step - loss: 0.0431\n",
      "Epoch 20/100\n",
      "15/15 [==============================] - 0s 7ms/step - loss: 0.0460\n",
      "Epoch 21/100\n",
      "15/15 [==============================] - 0s 6ms/step - loss: 0.0445\n",
      "Epoch 22/100\n",
      "15/15 [==============================] - 0s 6ms/step - loss: 0.0450\n",
      "Epoch 23/100\n",
      "15/15 [==============================] - 0s 6ms/step - loss: 0.0458\n",
      "Epoch 24/100\n",
      "15/15 [==============================] - 0s 5ms/step - loss: 0.0459\n",
      "Epoch 25/100\n",
      "15/15 [==============================] - 0s 5ms/step - loss: 0.0425\n",
      "Epoch 26/100\n",
      "15/15 [==============================] - 0s 5ms/step - loss: 0.0451\n",
      "Epoch 27/100\n",
      "15/15 [==============================] - 0s 5ms/step - loss: 0.0417\n",
      "Epoch 28/100\n",
      "15/15 [==============================] - 0s 5ms/step - loss: 0.0465\n",
      "Epoch 29/100\n",
      "15/15 [==============================] - 0s 5ms/step - loss: 0.0455\n",
      "Epoch 30/100\n",
      "15/15 [==============================] - 0s 6ms/step - loss: 0.0428\n",
      "Epoch 31/100\n",
      "15/15 [==============================] - 0s 8ms/step - loss: 0.0460\n",
      "Epoch 32/100\n",
      "15/15 [==============================] - 0s 5ms/step - loss: 0.0432\n",
      "Epoch 33/100\n",
      "15/15 [==============================] - 0s 22ms/step - loss: 0.0502\n",
      "Epoch 34/100\n",
      "15/15 [==============================] - 0s 13ms/step - loss: 0.0418\n",
      "Epoch 35/100\n",
      "15/15 [==============================] - 0s 10ms/step - loss: 0.0444\n",
      "Epoch 36/100\n",
      "15/15 [==============================] - 0s 10ms/step - loss: 0.0478\n",
      "Epoch 37/100\n",
      "15/15 [==============================] - 0s 12ms/step - loss: 0.0428\n",
      "Epoch 38/100\n",
      "15/15 [==============================] - 0s 11ms/step - loss: 0.0423\n",
      "Epoch 39/100\n",
      "15/15 [==============================] - 0s 10ms/step - loss: 0.0446\n",
      "Epoch 40/100\n",
      "15/15 [==============================] - 0s 9ms/step - loss: 0.0463\n",
      "Epoch 41/100\n",
      "15/15 [==============================] - 0s 10ms/step - loss: 0.0428\n",
      "Epoch 42/100\n",
      "15/15 [==============================] - 0s 10ms/step - loss: 0.0437\n",
      "Epoch 43/100\n",
      "15/15 [==============================] - 0s 10ms/step - loss: 0.0448\n",
      "Epoch 44/100\n",
      "15/15 [==============================] - 0s 10ms/step - loss: 0.0451\n",
      "Epoch 45/100\n",
      "15/15 [==============================] - 0s 7ms/step - loss: 0.0432\n",
      "Epoch 46/100\n",
      "15/15 [==============================] - 0s 9ms/step - loss: 0.0431\n",
      "Epoch 47/100\n",
      "15/15 [==============================] - 0s 12ms/step - loss: 0.0430\n",
      "Epoch 48/100\n",
      "15/15 [==============================] - 0s 10ms/step - loss: 0.0454\n",
      "Epoch 49/100\n",
      "15/15 [==============================] - 0s 8ms/step - loss: 0.0439\n",
      "Epoch 50/100\n",
      "15/15 [==============================] - 0s 13ms/step - loss: 0.0433\n",
      "Epoch 51/100\n",
      "15/15 [==============================] - 0s 17ms/step - loss: 0.0425\n",
      "Epoch 52/100\n",
      "15/15 [==============================] - 0s 12ms/step - loss: 0.0435\n",
      "Epoch 53/100\n",
      "15/15 [==============================] - 0s 13ms/step - loss: 0.0418\n",
      "Epoch 54/100\n",
      "15/15 [==============================] - 0s 14ms/step - loss: 0.0421\n",
      "Epoch 55/100\n",
      "15/15 [==============================] - 0s 11ms/step - loss: 0.0451\n",
      "Epoch 56/100\n",
      "15/15 [==============================] - 0s 11ms/step - loss: 0.0430\n",
      "Epoch 57/100\n",
      "15/15 [==============================] - 0s 12ms/step - loss: 0.0428\n",
      "Epoch 58/100\n",
      "15/15 [==============================] - 0s 10ms/step - loss: 0.0438\n",
      "Epoch 59/100\n",
      "15/15 [==============================] - 0s 11ms/step - loss: 0.0426\n",
      "Epoch 60/100\n",
      "15/15 [==============================] - 0s 12ms/step - loss: 0.0443\n",
      "Epoch 61/100\n",
      "15/15 [==============================] - 0s 11ms/step - loss: 0.0447\n",
      "Epoch 62/100\n",
      "15/15 [==============================] - 0s 10ms/step - loss: 0.0419\n",
      "Epoch 63/100\n",
      "15/15 [==============================] - 0s 11ms/step - loss: 0.0408\n",
      "Epoch 64/100\n",
      "15/15 [==============================] - 0s 11ms/step - loss: 0.0417\n",
      "Epoch 65/100\n",
      "15/15 [==============================] - 0s 11ms/step - loss: 0.0434\n",
      "Epoch 66/100\n",
      "15/15 [==============================] - 0s 11ms/step - loss: 0.0453\n",
      "Epoch 67/100\n",
      "15/15 [==============================] - 0s 8ms/step - loss: 0.0437\n",
      "Epoch 68/100\n",
      "15/15 [==============================] - 0s 8ms/step - loss: 0.0398\n",
      "Epoch 69/100\n",
      "15/15 [==============================] - 0s 11ms/step - loss: 0.0431\n",
      "Epoch 70/100\n",
      "15/15 [==============================] - 0s 13ms/step - loss: 0.0437\n",
      "Epoch 71/100\n",
      "15/15 [==============================] - 0s 9ms/step - loss: 0.0434\n",
      "Epoch 72/100\n",
      "15/15 [==============================] - 0s 11ms/step - loss: 0.0446\n",
      "Epoch 73/100\n",
      "15/15 [==============================] - 0s 15ms/step - loss: 0.0425\n",
      "Epoch 74/100\n",
      "15/15 [==============================] - 0s 12ms/step - loss: 0.0440\n",
      "Epoch 75/100\n",
      "15/15 [==============================] - 0s 12ms/step - loss: 0.0446\n",
      "Epoch 76/100\n",
      "15/15 [==============================] - 0s 12ms/step - loss: 0.0443\n",
      "Epoch 77/100\n",
      "15/15 [==============================] - 0s 13ms/step - loss: 0.0443\n",
      "Epoch 78/100\n",
      "15/15 [==============================] - 0s 12ms/step - loss: 0.0455\n",
      "Epoch 79/100\n",
      "15/15 [==============================] - 0s 11ms/step - loss: 0.0421\n",
      "Epoch 80/100\n",
      "15/15 [==============================] - 0s 10ms/step - loss: 0.0434\n",
      "Epoch 81/100\n",
      "15/15 [==============================] - 0s 8ms/step - loss: 0.0447\n",
      "Epoch 82/100\n",
      "15/15 [==============================] - 0s 8ms/step - loss: 0.0425\n",
      "Epoch 83/100\n",
      "15/15 [==============================] - 0s 9ms/step - loss: 0.0433\n",
      "Epoch 84/100\n",
      "15/15 [==============================] - 0s 15ms/step - loss: 0.0440\n",
      "Epoch 85/100\n",
      "15/15 [==============================] - 0s 10ms/step - loss: 0.0428\n",
      "Epoch 86/100\n",
      "15/15 [==============================] - 0s 11ms/step - loss: 0.0429\n",
      "Epoch 87/100\n",
      "15/15 [==============================] - 0s 10ms/step - loss: 0.0433\n",
      "Epoch 88/100\n",
      "15/15 [==============================] - 0s 11ms/step - loss: 0.0436\n",
      "Epoch 89/100\n",
      "15/15 [==============================] - 0s 12ms/step - loss: 0.0418\n",
      "Epoch 90/100\n",
      "15/15 [==============================] - 0s 10ms/step - loss: 0.0414\n",
      "Epoch 91/100\n",
      "15/15 [==============================] - 0s 11ms/step - loss: 0.0425\n",
      "Epoch 92/100\n",
      "15/15 [==============================] - 0s 10ms/step - loss: 0.0419\n",
      "Epoch 93/100\n",
      "15/15 [==============================] - 0s 9ms/step - loss: 0.0432\n",
      "Epoch 94/100\n",
      "15/15 [==============================] - 0s 9ms/step - loss: 0.0431\n",
      "Epoch 95/100\n",
      "15/15 [==============================] - 0s 13ms/step - loss: 0.0427\n",
      "Epoch 96/100\n",
      "15/15 [==============================] - 0s 12ms/step - loss: 0.0423\n",
      "Epoch 97/100\n",
      "15/15 [==============================] - 0s 11ms/step - loss: 0.0447\n",
      "Epoch 98/100\n",
      "15/15 [==============================] - 0s 9ms/step - loss: 0.0419\n",
      "Epoch 99/100\n",
      "15/15 [==============================] - 0s 12ms/step - loss: 0.0440\n",
      "Epoch 100/100\n",
      "15/15 [==============================] - 0s 14ms/step - loss: 0.0406\n"
     ]
    },
    {
     "data": {
      "text/plain": [
       "<keras.callbacks.History at 0x7fb6e1f31f10>"
      ]
     },
     "execution_count": 44,
     "metadata": {},
     "output_type": "execute_result"
    }
   ],
   "source": [
    "model.fit(x_train, y_train, batch_size=5, epochs = 100)"
   ]
  },
  {
   "cell_type": "code",
   "execution_count": 45,
   "metadata": {},
   "outputs": [],
   "source": [
    "y_pred = model.predict(x_test)"
   ]
  },
  {
   "cell_type": "code",
   "execution_count": 46,
   "metadata": {},
   "outputs": [
    {
     "name": "stdout",
     "output_type": "stream",
     "text": [
      "Test Score 335.4069849077579 RMSE\n"
     ]
    }
   ],
   "source": [
    "testScore = np.sqrt(mean_squared_error(scaler.inverse_transform(y_test), scaler.inverse_transform(y_pred)))\n",
    "print ('Test Score {} RMSE'.format(testScore))"
   ]
  },
  {
   "cell_type": "code",
   "execution_count": null,
   "metadata": {},
   "outputs": [],
   "source": []
  },
  {
   "cell_type": "code",
   "execution_count": null,
   "metadata": {},
   "outputs": [],
   "source": []
  },
  {
   "cell_type": "code",
   "execution_count": 84,
   "metadata": {},
   "outputs": [],
   "source": [
    "from sklearn.metrics import r2_score"
   ]
  },
  {
   "cell_type": "code",
   "execution_count": 85,
   "metadata": {},
   "outputs": [
    {
     "name": "stdout",
     "output_type": "stream",
     "text": [
      "RSquared : 68.18%\n"
     ]
    }
   ],
   "source": [
    "print ('RSquared :', '{:.2%}'.format(r2_score(y_test,y_pred)))\n",
    "\n",
    "# Here it is negative because the value of bitcoin is decreasing"
   ]
  },
  {
   "cell_type": "code",
   "execution_count": 86,
   "metadata": {},
   "outputs": [],
   "source": [
    "model.save('Bitcoin_model_min.h5')"
   ]
  },
  {
   "cell_type": "code",
   "execution_count": 89,
   "metadata": {},
   "outputs": [
    {
     "name": "stdout",
     "output_type": "stream",
     "text": [
      "Model: \"sequential_1\"\n",
      "_________________________________________________________________\n",
      "Layer (type)                 Output Shape              Param #   \n",
      "=================================================================\n",
      "lstm_2 (LSTM)                (None, 4, 20)             1760      \n",
      "_________________________________________________________________\n",
      "lstm_3 (LSTM)                (None, 40)                9760      \n",
      "_________________________________________________________________\n",
      "dense_1 (Dense)              (None, 1)                 41        \n",
      "=================================================================\n",
      "Total params: 11,561\n",
      "Trainable params: 11,561\n",
      "Non-trainable params: 0\n",
      "_________________________________________________________________\n"
     ]
    }
   ],
   "source": [
    "from keras.models import load_model\n",
    "\n",
    "# load model\n",
    "# Bitcoin_model\n",
    "# Bitcoin_model_min\n",
    "model = load_model('Bitcoin_model.h5')\n",
    "\n",
    "# summarize model\n",
    "model.summary()"
   ]
  },
  {
   "cell_type": "code",
   "execution_count": 90,
   "metadata": {},
   "outputs": [
    {
     "name": "stdout",
     "output_type": "stream",
     "text": [
      "Model: \"sequential_2\"\n",
      "_________________________________________________________________\n",
      "Layer (type)                 Output Shape              Param #   \n",
      "=================================================================\n",
      "lstm_4 (LSTM)                (None, 4, 20)             1760      \n",
      "_________________________________________________________________\n",
      "lstm_5 (LSTM)                (None, 40)                9760      \n",
      "_________________________________________________________________\n",
      "dense_2 (Dense)              (None, 1)                 41        \n",
      "=================================================================\n",
      "Total params: 11,561\n",
      "Trainable params: 11,561\n",
      "Non-trainable params: 0\n",
      "_________________________________________________________________\n"
     ]
    }
   ],
   "source": [
    "from keras.models import load_model\n",
    "\n",
    "# load model\n",
    "# Bitcoin_model\n",
    "# Bitcoin_model_min\n",
    "model = load_model('Bitcoin_model_min.h5')\n",
    "\n",
    "# summarize model\n",
    "model.summary()"
   ]
  },
  {
   "cell_type": "code",
   "execution_count": null,
   "metadata": {},
   "outputs": [],
   "source": []
  }
 ],
 "metadata": {
  "kernelspec": {
   "display_name": "Python 3",
   "language": "python",
   "name": "python3"
  },
  "language_info": {
   "codemirror_mode": {
    "name": "ipython",
    "version": 3
   },
   "file_extension": ".py",
   "mimetype": "text/x-python",
   "name": "python",
   "nbconvert_exporter": "python",
   "pygments_lexer": "ipython3",
   "version": "3.8.5"
  }
 },
 "nbformat": 4,
 "nbformat_minor": 4
}
