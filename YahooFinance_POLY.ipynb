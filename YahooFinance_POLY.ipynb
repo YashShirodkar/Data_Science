{
 "cells": [
  {
   "cell_type": "markdown",
   "metadata": {},
   "source": [
    "## Install and import the required libraries"
   ]
  },
  {
   "cell_type": "code",
   "execution_count": 1,
   "metadata": {},
   "outputs": [],
   "source": [
    "# pip install yfinance \n",
    "\n",
    "# yfinance is a python library which retrieves real time market value"
   ]
  },
  {
   "cell_type": "code",
   "execution_count": 4,
   "metadata": {},
   "outputs": [],
   "source": [
    "import pandas as pd\n",
    "import numpy as np\n",
    "import matplotlib.pyplot as plt\n",
    "import seaborn as sns\n",
    "import arch\n",
    "import warnings\n",
    "import requests\n",
    "import yfinance as yf\n",
    "\n",
    "from sklearn.metrics import mean_squared_error\n",
    "from keras.layers.core import Dense, Activation, Dropout\n",
    "from keras.models import Sequential\n",
    "from pandas.plotting import register_matplotlib_converters\n",
    "\n",
    "register_matplotlib_converters()\n",
    "warnings.filterwarnings(\"ignore\")"
   ]
  },
  {
   "cell_type": "markdown",
   "metadata": {},
   "source": [
    "## Loading Bitcoin value (BTC-USD)"
   ]
  },
  {
   "cell_type": "code",
   "execution_count": 5,
   "metadata": {},
   "outputs": [
    {
     "name": "stdout",
     "output_type": "stream",
     "text": [
      "{'companyOfficers': [], 'name': 'Bitcoin', 'startDate': 1367107200, 'description': 'Bitcoin (BTC) is a cryptocurrency . Users are able to generate BTC through the process of mining. Bitcoin has a current supply of 18,722,362. The last known price of Bitcoin is 34,811.21481044 USD and is up 2.76 over the last 24 hours. It is currently trading on 9728 active market(s) with $30,285,329,552.01 traded over the last 24 hours. More information can be found at https://bitcoin.org/.', 'maxAge': 1, 'previousClose': 35508.32, 'regularMarketOpen': 35508.32, 'twoHundredDayAverage': 41095.23, 'trailingAnnualDividendYield': None, 'payoutRatio': None, 'volume24Hr': 30267967488, 'regularMarketDayHigh': 35843.113, 'navPrice': None, 'averageDailyVolume10Day': 59606508170, 'totalAssets': None, 'regularMarketPreviousClose': 35508.32, 'fiftyDayAverage': 50988.34, 'trailingAnnualDividendRate': None, 'open': 35508.32, 'toCurrency': 'USD=X', 'averageVolume10days': 59606508170, 'expireDate': None, 'yield': None, 'algorithm': None, 'dividendRate': None, 'exDividendDate': None, 'beta': None, 'circulatingSupply': 18722480, 'regularMarketDayLow': 34249.68, 'priceHint': 2, 'currency': 'USD', 'regularMarketVolume': 30267967488, 'lastMarket': 'CoinMarketCap', 'maxSupply': None, 'openInterest': None, 'marketCap': 644334288896, 'volumeAllCurrencies': 30267967488, 'strikePrice': None, 'averageVolume': 60275246533, 'priceToSalesTrailing12Months': None, 'dayLow': 34249.68, 'ask': None, 'ytdReturn': None, 'askSize': None, 'volume': 30267967488, 'fiftyTwoWeekHigh': 64863.098, 'forwardPE': None, 'fromCurrency': 'BTC', 'fiveYearAvgDividendYield': None, 'fiftyTwoWeekLow': 8975.525, 'bid': None, 'tradeable': False, 'dividendYield': None, 'bidSize': None, 'dayHigh': 35843.113, 'exchange': 'CCC', 'shortName': 'Bitcoin USD', 'exchangeTimezoneName': 'Europe/London', 'exchangeTimezoneShortName': 'BST', 'isEsgPopulated': False, 'gmtOffSetMilliseconds': '3600000', 'quoteType': 'CRYPTOCURRENCY', 'symbol': 'BTC-USD', 'messageBoardId': 'finmb_BTC_CCC', 'market': 'ccc_market', 'regularMarketPrice': 34415.004, 'logo_url': ''}\n"
     ]
    },
    {
     "data": {
      "text/html": [
       "<div>\n",
       "<style scoped>\n",
       "    .dataframe tbody tr th:only-of-type {\n",
       "        vertical-align: middle;\n",
       "    }\n",
       "\n",
       "    .dataframe tbody tr th {\n",
       "        vertical-align: top;\n",
       "    }\n",
       "\n",
       "    .dataframe thead th {\n",
       "        text-align: right;\n",
       "    }\n",
       "</style>\n",
       "<table border=\"1\" class=\"dataframe\">\n",
       "  <thead>\n",
       "    <tr style=\"text-align: right;\">\n",
       "      <th></th>\n",
       "      <th>Datetime</th>\n",
       "      <th>Open</th>\n",
       "      <th>High</th>\n",
       "      <th>Low</th>\n",
       "      <th>Close</th>\n",
       "      <th>Volume</th>\n",
       "      <th>Dividends</th>\n",
       "      <th>Stock Splits</th>\n",
       "    </tr>\n",
       "  </thead>\n",
       "  <tbody>\n",
       "    <tr>\n",
       "      <th>0</th>\n",
       "      <td>2021-05-27 00:00:00+01:00</td>\n",
       "      <td>39019.730469</td>\n",
       "      <td>39019.730469</td>\n",
       "      <td>39019.730469</td>\n",
       "      <td>39019.730469</td>\n",
       "      <td>0</td>\n",
       "      <td>0</td>\n",
       "      <td>0</td>\n",
       "    </tr>\n",
       "    <tr>\n",
       "      <th>1</th>\n",
       "      <td>2021-05-27 00:01:00+01:00</td>\n",
       "      <td>38978.664062</td>\n",
       "      <td>38978.664062</td>\n",
       "      <td>38978.664062</td>\n",
       "      <td>38978.664062</td>\n",
       "      <td>0</td>\n",
       "      <td>0</td>\n",
       "      <td>0</td>\n",
       "    </tr>\n",
       "    <tr>\n",
       "      <th>2</th>\n",
       "      <td>2021-05-27 00:02:00+01:00</td>\n",
       "      <td>38937.027344</td>\n",
       "      <td>38937.027344</td>\n",
       "      <td>38937.027344</td>\n",
       "      <td>38937.027344</td>\n",
       "      <td>0</td>\n",
       "      <td>0</td>\n",
       "      <td>0</td>\n",
       "    </tr>\n",
       "    <tr>\n",
       "      <th>3</th>\n",
       "      <td>2021-05-27 00:03:00+01:00</td>\n",
       "      <td>38897.214844</td>\n",
       "      <td>38897.214844</td>\n",
       "      <td>38897.214844</td>\n",
       "      <td>38897.214844</td>\n",
       "      <td>0</td>\n",
       "      <td>0</td>\n",
       "      <td>0</td>\n",
       "    </tr>\n",
       "    <tr>\n",
       "      <th>4</th>\n",
       "      <td>2021-05-27 00:04:00+01:00</td>\n",
       "      <td>38783.230469</td>\n",
       "      <td>38783.230469</td>\n",
       "      <td>38783.230469</td>\n",
       "      <td>38783.230469</td>\n",
       "      <td>0</td>\n",
       "      <td>0</td>\n",
       "      <td>0</td>\n",
       "    </tr>\n",
       "    <tr>\n",
       "      <th>...</th>\n",
       "      <td>...</td>\n",
       "      <td>...</td>\n",
       "      <td>...</td>\n",
       "      <td>...</td>\n",
       "      <td>...</td>\n",
       "      <td>...</td>\n",
       "      <td>...</td>\n",
       "      <td>...</td>\n",
       "    </tr>\n",
       "    <tr>\n",
       "      <th>5949</th>\n",
       "      <td>2021-05-31 05:34:00+01:00</td>\n",
       "      <td>34249.679688</td>\n",
       "      <td>34249.679688</td>\n",
       "      <td>34249.679688</td>\n",
       "      <td>34249.679688</td>\n",
       "      <td>0</td>\n",
       "      <td>0</td>\n",
       "      <td>0</td>\n",
       "    </tr>\n",
       "    <tr>\n",
       "      <th>5950</th>\n",
       "      <td>2021-05-31 05:35:00+01:00</td>\n",
       "      <td>34312.984375</td>\n",
       "      <td>34312.984375</td>\n",
       "      <td>34312.984375</td>\n",
       "      <td>34312.984375</td>\n",
       "      <td>0</td>\n",
       "      <td>0</td>\n",
       "      <td>0</td>\n",
       "    </tr>\n",
       "    <tr>\n",
       "      <th>5951</th>\n",
       "      <td>2021-05-31 05:36:00+01:00</td>\n",
       "      <td>34355.277344</td>\n",
       "      <td>34355.277344</td>\n",
       "      <td>34355.277344</td>\n",
       "      <td>34355.277344</td>\n",
       "      <td>16433152</td>\n",
       "      <td>0</td>\n",
       "      <td>0</td>\n",
       "    </tr>\n",
       "    <tr>\n",
       "      <th>5952</th>\n",
       "      <td>2021-05-31 05:37:00+01:00</td>\n",
       "      <td>34374.789062</td>\n",
       "      <td>34374.789062</td>\n",
       "      <td>34374.789062</td>\n",
       "      <td>34374.789062</td>\n",
       "      <td>14221312</td>\n",
       "      <td>0</td>\n",
       "      <td>0</td>\n",
       "    </tr>\n",
       "    <tr>\n",
       "      <th>5953</th>\n",
       "      <td>2021-05-31 05:38:02+01:00</td>\n",
       "      <td>34415.003906</td>\n",
       "      <td>34415.003906</td>\n",
       "      <td>34415.003906</td>\n",
       "      <td>34415.003906</td>\n",
       "      <td>0</td>\n",
       "      <td>0</td>\n",
       "      <td>0</td>\n",
       "    </tr>\n",
       "  </tbody>\n",
       "</table>\n",
       "<p>5954 rows × 8 columns</p>\n",
       "</div>"
      ],
      "text/plain": [
       "                      Datetime          Open          High           Low  \\\n",
       "0    2021-05-27 00:00:00+01:00  39019.730469  39019.730469  39019.730469   \n",
       "1    2021-05-27 00:01:00+01:00  38978.664062  38978.664062  38978.664062   \n",
       "2    2021-05-27 00:02:00+01:00  38937.027344  38937.027344  38937.027344   \n",
       "3    2021-05-27 00:03:00+01:00  38897.214844  38897.214844  38897.214844   \n",
       "4    2021-05-27 00:04:00+01:00  38783.230469  38783.230469  38783.230469   \n",
       "...                        ...           ...           ...           ...   \n",
       "5949 2021-05-31 05:34:00+01:00  34249.679688  34249.679688  34249.679688   \n",
       "5950 2021-05-31 05:35:00+01:00  34312.984375  34312.984375  34312.984375   \n",
       "5951 2021-05-31 05:36:00+01:00  34355.277344  34355.277344  34355.277344   \n",
       "5952 2021-05-31 05:37:00+01:00  34374.789062  34374.789062  34374.789062   \n",
       "5953 2021-05-31 05:38:02+01:00  34415.003906  34415.003906  34415.003906   \n",
       "\n",
       "             Close    Volume  Dividends  Stock Splits  \n",
       "0     39019.730469         0          0             0  \n",
       "1     38978.664062         0          0             0  \n",
       "2     38937.027344         0          0             0  \n",
       "3     38897.214844         0          0             0  \n",
       "4     38783.230469         0          0             0  \n",
       "...            ...       ...        ...           ...  \n",
       "5949  34249.679688         0          0             0  \n",
       "5950  34312.984375         0          0             0  \n",
       "5951  34355.277344  16433152          0             0  \n",
       "5952  34374.789062  14221312          0             0  \n",
       "5953  34415.003906         0          0             0  \n",
       "\n",
       "[5954 rows x 8 columns]"
      ]
     },
     "execution_count": 5,
     "metadata": {},
     "output_type": "execute_result"
    }
   ],
   "source": [
    "btc = yf.Ticker(\"BTC-USD\")\n",
    "\n",
    "# get stock info\n",
    "print(btc.info)\n",
    "\n",
    "# get historical market data\n",
    "hist = btc.history(period=\"5d\", interval = \"1m\")\n",
    "df = hist.reset_index()\n",
    "df"
   ]
  },
  {
   "cell_type": "markdown",
   "metadata": {},
   "source": [
    "## Data Preprocessing "
   ]
  },
  {
   "cell_type": "code",
   "execution_count": 3,
   "metadata": {},
   "outputs": [
    {
     "name": "stdout",
     "output_type": "stream",
     "text": [
      "                   Datetime          Open          High           Low  \\\n",
      "0 2021-05-27 00:00:00+01:00  39019.730469  39019.730469  39019.730469   \n",
      "1 2021-05-27 00:01:00+01:00  38978.664062  38978.664062  38978.664062   \n",
      "2 2021-05-27 00:02:00+01:00  38937.027344  38937.027344  38937.027344   \n",
      "3 2021-05-27 00:03:00+01:00  38897.214844  38897.214844  38897.214844   \n",
      "4 2021-05-27 00:04:00+01:00  38783.230469  38783.230469  38783.230469   \n",
      "\n",
      "          Close  Volume          Mean  \n",
      "0  39019.730469       0  39019.730469  \n",
      "1  38978.664062       0  38978.664062  \n",
      "2  38937.027344       0  38937.027344  \n",
      "3  38897.214844       0  38897.214844  \n",
      "4  38783.230469       0  38783.230469  \n"
     ]
    }
   ],
   "source": [
    "# feature creation for better representation of price on a day\n",
    "df['Mean'] = (df['Low'] + df['High'])/2\n",
    "\n",
    "# remove NaNs and Nones\n",
    "df=df.drop(columns=['Dividends','Stock Splits'])\n",
    "\n",
    "# data preview\n",
    "print(df.head())"
   ]
  },
  {
   "cell_type": "code",
   "execution_count": 4,
   "metadata": {},
   "outputs": [],
   "source": [
    "# Creating a copy for making small changes\n",
    "dataset_for_prediction = df.copy()\n",
    "dataset_for_prediction['Actual']=dataset_for_prediction['Mean'].shift()\n",
    "\n",
    "# date time typecast\n",
    "dataset_for_prediction['Datetime'] =pd.to_datetime(dataset_for_prediction['Datetime'])\n",
    "dataset_for_prediction.index= dataset_for_prediction['Datetime']"
   ]
  },
  {
   "cell_type": "markdown",
   "metadata": {},
   "source": [
    "## Polynomial Regression"
   ]
  },
  {
   "cell_type": "code",
   "execution_count": 18,
   "metadata": {},
   "outputs": [],
   "source": [
    "from sklearn.preprocessing import PolynomialFeatures \n",
    "from sklearn.linear_model import LinearRegression\n",
    "N=5000\n",
    "#test size\n",
    "X=[]\n",
    "for i in range(5000):\n",
    "    X.append([i])"
   ]
  },
  {
   "cell_type": "code",
   "execution_count": 25,
   "metadata": {},
   "outputs": [
    {
     "data": {
      "text/plain": [
       "[<matplotlib.lines.Line2D at 0x7fceb8837be0>]"
      ]
     },
     "execution_count": 25,
     "metadata": {},
     "output_type": "execute_result"
    },
    {
     "data": {
      "image/png": "[encoded data removed]",
      "text/plain": [
       "<Figure size 432x288 with 1 Axes>"
      ]
     },
     "metadata": {
      "needs_background": "light"
     },
     "output_type": "display_data"
    }
   ],
   "source": [
    "#make numpy array\n",
    "X=np.array(X)\n",
    "\n",
    "#make train data\n",
    "Xtrain=X[:N]\n",
    "ytrain=Y[:N]\n",
    "\n",
    "Xtest=X[-1000:]\n",
    "Y=df[\"Mean\"]\n",
    "Y=np.array(Y,dtype='float32')\n",
    "ytrain=Y[:N]\n",
    "\n",
    "#make test data\n",
    "ytest=Y[-1000:]\n",
    "arr=ytest\n",
    "#plot actual values\n",
    "plt.plot(arr,label='actual')"
   ]
  },
  {
   "cell_type": "code",
   "execution_count": 27,
   "metadata": {},
   "outputs": [
    {
     "name": "stdout",
     "output_type": "stream",
     "text": [
      "POLYNOMIAL REGRESSION\n",
      "Degree= 2         RMSE: [982.36847]\n",
      "POLYNOMIAL REGRESSION\n",
      "Degree= 3         RMSE: [889.1098]\n",
      "POLYNOMIAL REGRESSION\n",
      "Degree= 5         RMSE: [932.8214]\n",
      "\n",
      "POLYNOMIAL REGRESSION, depending upon no of days\n"
     ]
    },
    {
     "data": {
      "image/png": "[encoded data removed]",
      "text/plain": [
       "<Figure size 432x288 with 1 Axes>"
      ]
     },
     "metadata": {
      "needs_background": "light"
     },
     "output_type": "display_data"
    }
   ],
   "source": [
    "\n",
    "# grid serach for optimal polynomial degree\n",
    "for j in [2,3,5]:\n",
    "    #make polynomial features\n",
    "    poly = PolynomialFeatures(degree = j)\n",
    "    X_poly = poly.fit_transform(Xtrain.reshape((5000,1))) \n",
    "\n",
    "\n",
    "    poly.fit(X_poly, ytrain) \n",
    "    reg = LinearRegression() \n",
    "    reg.fit(X_poly, ytrain) \n",
    "\n",
    "    ypred=reg.predict(poly.fit_transform(Xtest.reshape((1000,1))))\n",
    "    ytest=ytest.reshape((1000,1))\n",
    "\n",
    "    #plot the same\n",
    "    plt.plot(ypred,label='predicted with degree'+str(j))\n",
    "    plt.legend()\n",
    "    #plt.show()\n",
    "\n",
    "    print(\"POLYNOMIAL REGRESSION\")\n",
    "\n",
    "    c=0\n",
    "    for i in range(1000):\n",
    "        c+=(ypred[i]-ytest[i])**2\n",
    "    c/=1000\n",
    "    \n",
    "    print(\"Degree=\",j,\"        RMSE:\",c**0.5)\n",
    "\n",
    "print()\n",
    "print(\"POLYNOMIAL REGRESSION, depending upon no of days\")"
   ]
  },
  {
   "cell_type": "code",
   "execution_count": null,
   "metadata": {},
   "outputs": [],
   "source": []
  }
 ],
 "metadata": {
  "kernelspec": {
   "display_name": "Python 3",
   "language": "python",
   "name": "python3"
  },
  "language_info": {
   "codemirror_mode": {
    "name": "ipython",
    "version": 3
   },
   "file_extension": ".py",
   "mimetype": "text/x-python",
   "name": "python",
   "nbconvert_exporter": "python",
   "pygments_lexer": "ipython3",
   "version": "3.8.5"
  }
 },
 "nbformat": 4,
 "nbformat_minor": 4
}
